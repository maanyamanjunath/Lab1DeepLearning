{
 "cells": [
  {
   "cell_type": "code",
   "execution_count": 28,
   "id": "3160f6cc-12fc-4243-9a24-4e8c31c313bb",
   "metadata": {},
   "outputs": [
    {
     "data": {
      "text/plain": [
       "0.9820137900379085"
      ]
     },
     "execution_count": 28,
     "metadata": {},
     "output_type": "execute_result"
    }
   ],
   "source": [
    "import math\n",
    "x=4\n",
    "1/(1+math.exp(-x))"
   ]
  },
  {
   "cell_type": "code",
   "execution_count": 30,
   "id": "6e0edd1c-af46-49c8-bde1-214b731ec66e",
   "metadata": {},
   "outputs": [],
   "source": [
    "def sigmoid(x):\n",
    "    return 1/(1+math.exp(-x))"
   ]
  },
  {
   "cell_type": "code",
   "execution_count": 32,
   "id": "be249b36-b67e-40b6-a3a3-2cec4afc5360",
   "metadata": {},
   "outputs": [
    {
     "name": "stdout",
     "output_type": "stream",
     "text": [
      "0.9820137900379085\n"
     ]
    }
   ],
   "source": [
    "print(sigmoid(4))"
   ]
  },
  {
   "cell_type": "code",
   "execution_count": 34,
   "id": "83d8fa27-c29c-486e-af93-06eb0173beb1",
   "metadata": {},
   "outputs": [
    {
     "name": "stdout",
     "output_type": "stream",
     "text": [
      "[0.36787944 0.13533528 0.04978707]\n"
     ]
    }
   ],
   "source": [
    "import numpy as np\n",
    "x=np.array((1,2,3))\n",
    "print(np.exp(-x))"
   ]
  },
  {
   "cell_type": "code",
   "execution_count": 36,
   "id": "5478ef54-8c21-457c-a796-1029ef4e992b",
   "metadata": {},
   "outputs": [
    {
     "name": "stdout",
     "output_type": "stream",
     "text": [
      "[2 7 8]\n"
     ]
    }
   ],
   "source": [
    "y=np.array((1,6,7))\n",
    "print(y+1)"
   ]
  },
  {
   "cell_type": "code",
   "execution_count": 50,
   "id": "80e90c02-5494-4b3c-8bf9-e362e6ebb86d",
   "metadata": {},
   "outputs": [],
   "source": [
    "def np_sigmoid(arr):\n",
    "    return 1/(1+np.exp(-arr))"
   ]
  },
  {
   "cell_type": "code",
   "execution_count": 52,
   "id": "3cca4c0d-8c74-45e8-84c7-e48f501def12",
   "metadata": {},
   "outputs": [
    {
     "data": {
      "text/plain": [
       "array([0.73105858, 0.88079708, 0.95257413])"
      ]
     },
     "execution_count": 52,
     "metadata": {},
     "output_type": "execute_result"
    }
   ],
   "source": [
    "np_sigmoid(x)"
   ]
  },
  {
   "cell_type": "code",
   "execution_count": 56,
   "id": "60fad476-708e-4f02-9f35-19cc8675257e",
   "metadata": {},
   "outputs": [],
   "source": [
    "def gradient(x):\n",
    "    return np_sigmoid(x)*(1-np_sigmoid(x))"
   ]
  },
  {
   "cell_type": "code",
   "execution_count": 58,
   "id": "2c995f49-4cc1-4e67-872c-f143cfbc1d1b",
   "metadata": {},
   "outputs": [
    {
     "data": {
      "text/plain": [
       "array([0.19661193, 0.10499359, 0.04517666])"
      ]
     },
     "execution_count": 58,
     "metadata": {},
     "output_type": "execute_result"
    }
   ],
   "source": [
    "gradient(x)"
   ]
  },
  {
   "cell_type": "code",
   "execution_count": 60,
   "id": "bd93774f-4c3d-4c3a-9952-4ca15049345f",
   "metadata": {},
   "outputs": [],
   "source": []
  },
  {
   "cell_type": "code",
   "execution_count": 80,
   "id": "d34b9add-bf75-488f-bea1-240eeee3fed3",
   "metadata": {},
   "outputs": [
    {
     "name": "stdout",
     "output_type": "stream",
     "text": [
      "[[0.468534]\n",
      " [0.456467]\n",
      " [0.657683]\n",
      " [0.564675]\n",
      " [0.464534]\n",
      " [0.467654]\n",
      " [0.245232]\n",
      " [0.685984]\n",
      " [0.569804]\n",
      " [0.468534]\n",
      " [0.456467]\n",
      " [0.657683]\n",
      " [0.564675]\n",
      " [0.464534]\n",
      " [0.467654]\n",
      " [0.245232]\n",
      " [0.685984]\n",
      " [0.569804]\n",
      " [0.468534]\n",
      " [0.456467]\n",
      " [0.657683]\n",
      " [0.564675]\n",
      " [0.464534]\n",
      " [0.467654]\n",
      " [0.245232]\n",
      " [0.685984]\n",
      " [0.569804]]\n"
     ]
    }
   ],
   "source": [
    "def reshape_img(img):\n",
    "    return img.reshape(img.shape[0] * img.shape[1] * img.shape[2],1)\n",
    "\n",
    "image = np.array([[[0.468534, 0.456467, 0.657683],\n",
    "                   [0.564675, 0.464534, 0.467654],\n",
    "                   [0.245232, 0.685984, 0.569804]],\n",
    "                  \n",
    "                  [[0.468534, 0.456467, 0.657683],\n",
    "                   [0.564675, 0.464534, 0.467654],\n",
    "                   [0.245232, 0.685984, 0.569804]],\n",
    "                  \n",
    "                  [[0.468534, 0.456467, 0.657683],\n",
    "                   [0.564675, 0.464534, 0.467654],\n",
    "                   [0.245232, 0.685984, 0.569804]]])\n",
    "\n",
    "reshaped_img = reshape_img(image)\n",
    "print(reshaped_img)\n"
   ]
  },
  {
   "cell_type": "code",
   "execution_count": 74,
   "id": "f233dc35-58ba-4095-8881-9433a2a4ed58",
   "metadata": {},
   "outputs": [],
   "source": [
    "def normalized(x):\n",
    "    norm=np.linalg.norm(x,axis=1,keepdims=True)\n",
    "    return x/norm"
   ]
  },
  {
   "cell_type": "code",
   "execution_count": 78,
   "id": "3d442c9c-c0e8-4ec8-8f76-18bf9848171a",
   "metadata": {},
   "outputs": [
    {
     "name": "stdout",
     "output_type": "stream",
     "text": [
      "[[0.         0.99920096 0.03996804]\n",
      " [0.26726124 0.80178373 0.53452248]]\n"
     ]
    }
   ],
   "source": [
    "img=np.array([[0,100,4],[2,6,4]])\n",
    "\n",
    "print(normalized(img))"
   ]
  },
  {
   "cell_type": "code",
   "execution_count": 82,
   "id": "605b21eb-7561-419a-a00e-7e3bfc672bf1",
   "metadata": {},
   "outputs": [],
   "source": [
    "def softmax(x):\n",
    "    x=np.exp(x)\n",
    "    norm=np.linalg.norm(x,axis=1,keepdims=True)\n",
    "    return x/norm\n",
    "    \n",
    "    \n",
    "    "
   ]
  },
  {
   "cell_type": "code",
   "execution_count": 84,
   "id": "f2295894-e236-4754-bdc3-8209625a09d6",
   "metadata": {},
   "outputs": [],
   "source": [
    "x=[[1,4,7,3],\n",
    "   [4,8,5,9]]"
   ]
  },
  {
   "cell_type": "code",
   "execution_count": 86,
   "id": "6de67d52-8d81-4af6-9cb6-012351d989a9",
   "metadata": {},
   "outputs": [
    {
     "name": "stdout",
     "output_type": "stream",
     "text": [
      "[[0.00247526 0.04971701 0.9985928  0.01828987]\n",
      " [0.00632256 0.34519987 0.01718649 0.93835052]]\n"
     ]
    }
   ],
   "source": [
    "print(softmax(x))"
   ]
  },
  {
   "cell_type": "code",
   "execution_count": 88,
   "id": "74fec782-41b7-4b1e-9854-3a361cfe55b6",
   "metadata": {},
   "outputs": [],
   "source": [
    "import time"
   ]
  },
  {
   "cell_type": "code",
   "execution_count": 100,
   "id": "49b5cb74-0b20-42bb-bee9-15c200696c31",
   "metadata": {},
   "outputs": [
    {
     "name": "stdout",
     "output_type": "stream",
     "text": [
      "145\n",
      "-15.625\n"
     ]
    }
   ],
   "source": [
    "x=[1,6,3,5,2,7,5,7,8,2,9,3,9,3,9,5,1,8]\n",
    "y=[3,5,2,9,6,7,2,8,5,1,9,3,0,2,4,6,8,3]\n",
    "\n",
    "start_time = time.process_time()\n",
    "end_time = time.process_time()\n",
    "dot = 0\n",
    "for i in range(len(x)):\n",
    "    dot += x[i] * y[i]\n",
    "elapsed_time = 1000* (end_time - start_time)\n",
    "\n",
    "print(dot)\n",
    "print(elapsed_time)"
   ]
  },
  {
   "cell_type": "code",
   "execution_count": null,
   "id": "925453a3-8506-4258-a422-133c763985d9",
   "metadata": {},
   "outputs": [],
   "source": []
  }
 ],
 "metadata": {
  "kernelspec": {
   "display_name": "Python 3 (ipykernel)",
   "language": "python",
   "name": "python3"
  },
  "language_info": {
   "codemirror_mode": {
    "name": "ipython",
    "version": 3
   },
   "file_extension": ".py",
   "mimetype": "text/x-python",
   "name": "python",
   "nbconvert_exporter": "python",
   "pygments_lexer": "ipython3",
   "version": "3.12.4"
  }
 },
 "nbformat": 4,
 "nbformat_minor": 5
}
